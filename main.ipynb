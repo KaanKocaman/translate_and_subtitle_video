{
 "cells": [
  {
   "cell_type": "code",
   "execution_count": 16,
   "id": "05c0525c",
   "metadata": {},
   "outputs": [
    {
     "data": {
      "text/plain": [
       "'!pip install git+https://github.com/openai/whisper.git'"
      ]
     },
     "execution_count": 16,
     "metadata": {},
     "output_type": "execute_result"
    }
   ],
   "source": [
    "\"\"\"!pip install git+https://github.com/openai/whisper.git\"\"\""
   ]
  },
  {
   "cell_type": "code",
   "execution_count": 1,
   "id": "496a20d7",
   "metadata": {},
   "outputs": [],
   "source": [
    "import whisper\n",
    "import whisper.utils\n",
    "import os\n",
    "from pytubefix import YouTube\n",
    "from pytubefix.cli import on_progress\n",
    "from moviepy import VideoFileClip\n",
    "import subprocess\n",
    "from pysrt import SubRipFile\n",
    "from deep_translator import GoogleTranslator"
   ]
  },
  {
   "cell_type": "code",
   "execution_count": 2,
   "id": "f4a9d522",
   "metadata": {},
   "outputs": [],
   "source": [
    "folder_path = \"./videos\"\n",
    "audio_path = \"./audios\"\n",
    "srt_file = \"./srt_file\"\n",
    "output_path = \"./output\"\n",
    "if not os.path.exists(folder_path):\n",
    "    os.makedirs(folder_path)\n",
    "if not os.path.exists(audio_path):\n",
    "        os.makedirs(audio_path)\n",
    "if not os.path.exists(output_path):\n",
    "        os.makedirs(output_path)\n",
    "if not os.path.exists(srt_file):\n",
    "        os.makedirs(srt_file)"
   ]
  },
  {
   "cell_type": "code",
   "execution_count": 3,
   "id": "a655b75f",
   "metadata": {},
   "outputs": [
    {
     "name": "stdout",
     "output_type": "stream",
     "text": [
      "ok\n"
     ]
    }
   ],
   "source": [
    "download = input(\"Would you like to download a video from youtube? (y/n): \")\n",
    "if download == \"y\":\n",
    "     url = input(\"Enter the URL of the video you want to download: \")\n",
    "     yt = YouTube(url, on_progress_callback=on_progress)\n",
    "     print(yt.title)\n",
    "\n",
    "     ys = yt.streams.get_highest_resolution()\n",
    "     ys.download(output_path=folder_path)\n",
    "else:\n",
    "     print(\"ok\")"
   ]
  },
  {
   "cell_type": "code",
   "execution_count": 4,
   "id": "70024b13",
   "metadata": {},
   "outputs": [
    {
     "name": "stdout",
     "output_type": "stream",
     "text": [
      "{'video_found': True, 'audio_found': True, 'metadata': {'major_brand': 'mp42', 'minor_version': '0', 'compatible_brands': 'isommp42', 'creation_time': '2021-06-24T23:45:34.000000Z'}, 'inputs': [{'streams': [{'input_number': 0, 'stream_number': 0, 'stream_type': 'video', 'language': None, 'default': True, 'size': [640, 360], 'bitrate': 425, 'fps': 29.97002997002997, 'codec_name': 'h264', 'profile': '(Main)', 'metadata': {'Metadata': '', 'creation_time': '2021-06-24T23:45:34.000000Z', 'handler_name': 'ISO Media file produced by Google Inc. Created on: 06/24/2021.', 'vendor_id': '[0][0][0][0]'}}, {'input_number': 0, 'stream_number': 1, 'stream_type': 'audio', 'language': 'eng', 'default': True, 'fps': 44100, 'bitrate': 128, 'metadata': {'Metadata': '', 'creation_time': '2021-06-24T23:45:34.000000Z', 'handler_name': 'ISO Media file produced by Google Inc. Created on: 06/24/2021.', 'vendor_id': '[0][0][0][0]'}}], 'input_number': 0}], 'duration': 72.68, 'bitrate': 556, 'start': 0.0, 'default_video_input_number': 0, 'default_video_stream_number': 0, 'video_codec_name': 'h264', 'video_profile': '(Main)', 'video_size': [640, 360], 'video_bitrate': 425, 'video_fps': 29.97002997002997, 'default_audio_input_number': 0, 'default_audio_stream_number': 1, 'audio_fps': 44100, 'audio_bitrate': 128, 'video_duration': 72.68, 'video_n_frames': 2178}\n",
      "c:\\Users\\Kanki\\Documents\\Github\\reelslike_video_creation\\.venv\\Lib\\site-packages\\imageio_ffmpeg\\binaries\\ffmpeg-win-x86_64-v7.1.exe -i ./videos\\asd.mp4 -loglevel error -f image2pipe -vf scale=640:360 -sws_flags bicubic -pix_fmt rgb24 -vcodec rawvideo -\n",
      "MoviePy - Writing audio in ./audios\\asd.wav\n"
     ]
    },
    {
     "name": "stderr",
     "output_type": "stream",
     "text": [
      "c:\\Users\\Kanki\\Documents\\Github\\reelslike_video_creation\\.venv\\Lib\\site-packages\\whisper\\transcribe.py:132: UserWarning: FP16 is not supported on CPU; using FP32 instead\n",
      "  warnings.warn(\"FP16 is not supported on CPU; using FP32 instead\")\n"
     ]
    },
    {
     "name": "stdout",
     "output_type": "stream",
     "text": [
      "MoviePy - Done.\n"
     ]
    }
   ],
   "source": [
    "model = whisper.load_model(\"base\")\n",
    "\n",
    "def Subttl():\n",
    "    for video in os.listdir(folder_path):\n",
    "        video_path = os.path.join(folder_path, video)\n",
    "        audio = os.path.join(audio_path, video.replace(\".mp4\",\".wav\"))\n",
    "\n",
    "        clip = VideoFileClip(video_path)\n",
    "        clip.audio.write_audiofile(audio)\n",
    "        clip.close()\n",
    "\n",
    "        result = model.transcribe(audio,task=\"transcribe\")\n",
    "        writer = whisper.utils.get_writer(\"srt\", output_dir=srt_file)\n",
    "        writer(result,video.replace(\"mp4\",\"srt\"))\n",
    "        subs = SubRipFile.open(srt_file+f\"/{video.replace(\".mp4\",\".srt\")}\",encoding=\"utf-8\")\n",
    "\n",
    "        def Translate(main,target):\n",
    "            translator = GoogleTranslator(source=main, target=target)\n",
    "\n",
    "            for sub in subs:\n",
    "                sub.text = translator.translate(sub.text)\n",
    "\n",
    "            subs.save(srt_file+f\"/{video.replace(\".mp4\",\"_translated.srt\")}\", encoding='utf-8')\n",
    "\n",
    "        ask_translate = input(f\"Would you like to translate the subtitles for {video}? (y/n): \")\n",
    "\n",
    "        if ask_translate.lower() == \"y\":\n",
    "            ask_main = input(\"Enter the language of the subtitles(ex: en,fr,de,etc): \")\n",
    "            ask_target=input(\"Enter the language you want to translate to?(ex: en,fr,de,etc): \")\n",
    "            Translate(ask_main,ask_target)\n",
    "            \n",
    "        command = [\"ffmpeg\", \"-i\", f\"videos/{video}\", \"-vf\", f\"subtitles=srt_file/{video.replace(\".mp4\",\"_translated.srt\")}\", f\"output/{video.replace(\".mp4\",\"_subtitled.mp4\")}\"]\n",
    "        subprocess.run(command, check=True)\n",
    "\n",
    "Subttl()"
   ]
  },
  {
   "cell_type": "code",
   "execution_count": null,
   "id": "be4de719",
   "metadata": {},
   "outputs": [],
   "source": []
  }
 ],
 "metadata": {
  "kernelspec": {
   "display_name": ".venv",
   "language": "python",
   "name": "python3"
  },
  "language_info": {
   "codemirror_mode": {
    "name": "ipython",
    "version": 3
   },
   "file_extension": ".py",
   "mimetype": "text/x-python",
   "name": "python",
   "nbconvert_exporter": "python",
   "pygments_lexer": "ipython3",
   "version": "3.12.0"
  }
 },
 "nbformat": 4,
 "nbformat_minor": 5
}
